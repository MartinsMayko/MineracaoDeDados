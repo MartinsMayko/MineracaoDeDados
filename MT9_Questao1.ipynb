{
 "cells": [
  {
   "cell_type": "markdown",
   "metadata": {},
   "source": [
    "Crawler site globo.com"
   ]
  },
  {
   "cell_type": "code",
   "execution_count": 1,
   "metadata": {},
   "outputs": [],
   "source": [
    "import requests\n",
    "from bs4 import BeautifulSoup"
   ]
  },
  {
   "cell_type": "code",
   "execution_count": 2,
   "metadata": {
    "collapsed": true
   },
   "outputs": [],
   "source": [
    "START_URL = \"http://www.globo.com/\""
   ]
  },
  {
   "cell_type": "code",
   "execution_count": 3,
   "metadata": {
    "collapsed": true
   },
   "outputs": [],
   "source": [
    "def get_post_links():\n",
    "    html = requests.get(START_URL).content\n",
    "    soup = BeautifulSoup(html)\n",
    "    return soup.findAll('a', rel ='bookmark')"
   ]
  },
  {
   "cell_type": "code",
   "execution_count": 4,
   "metadata": {
    "collapsed": true
   },
   "outputs": [],
   "source": [
    "def extract_data_from_link(post_link_tag):\n",
    "    return{\n",
    "        'link': post_link_tag.attrs['href'],\n",
    "        'title': post_link_tag.attrs['title'],\n",
    "    }"
   ]
  },
  {
   "cell_type": "code",
   "execution_count": 5,
   "metadata": {},
   "outputs": [
    {
     "name": "stderr",
     "output_type": "stream",
     "text": [
      "C:\\Users\\Mayko\\Anaconda3\\lib\\site-packages\\bs4\\__init__.py:181: UserWarning: No parser was explicitly specified, so I'm using the best available HTML parser for this system (\"lxml\"). This usually isn't a problem, but if you run this code on another system, or in a different virtual environment, it may use a different parser and behave differently.\n",
      "\n",
      "The code that caused this warning is on line 193 of the file C:\\Users\\Mayko\\Anaconda3\\lib\\runpy.py. To get rid of this warning, change code that looks like this:\n",
      "\n",
      " BeautifulSoup(YOUR_MARKUP})\n",
      "\n",
      "to this:\n",
      "\n",
      " BeautifulSoup(YOUR_MARKUP, \"lxml\")\n",
      "\n",
      "  markup_type=markup_type))\n"
     ]
    }
   ],
   "source": [
    "posts = get_post_links()\n",
    "data = []"
   ]
  },
  {
   "cell_type": "code",
   "execution_count": 6,
   "metadata": {},
   "outputs": [],
   "source": [
    "for post in posts:\n",
    "    post_data = extract_data_from_link(post)\n",
    "    data.append(post_data)"
   ]
  },
  {
   "cell_type": "code",
   "execution_count": 7,
   "metadata": {},
   "outputs": [
    {
     "data": {
      "text/plain": [
       "[{'link': 'https://g1.globo.com/sp/bauru-marilia/noticia/celular-perdido-no-mar-e-achado-por-crianca-e-devolvido-ao-dono-virou-oferenda.ghtml',\n",
       "  'title': \"Celular perdido no mar no ano novo volta ao dono: 'Oferenda' (Reprodução/Instagran)\"},\n",
       " {'link': 'https://g1.globo.com/rn/rio-grande-do-norte/noticia/consulesa-francesa-e-estuprada-no-litoral-do-rn.ghtml',\n",
       "  'title': 'Consulesa da França é estuprada na casa de praia de amigos do RN (Canindé Soares)'},\n",
       " {'link': 'https://g1.globo.com/pr/parana/noticia/a-legitima-defesa-nao-ocorreu-diz-promotor-do-caso-da-youtuber-morta-com-tiro-na-cabeca-no-litoral-do-parana.ghtml',\n",
       "  'title': \"Promotor diz que não houve 'legítima defesa' em morte de youtuber (Reprodução/Facebook)\"},\n",
       " {'link': 'http://blogs.oglobo.globo.com/gente-boa/post/jards-macale-esta-internado-em-sao-paulo-com-pneumonia.html',\n",
       "  'title': 'Cantor e compositor Jards Macalé já está há nove dias internado em São Paulo (Reprodução)'},\n",
       " {'link': 'https://g1.globo.com/sp/sao-paulo/noticia/guarda-que-agrediu-ator-no-shopping-higienopolis-e-indiciado-por-homofobia-e-lesao-corporal.ghtml',\n",
       "  'title': 'Agressor de ator em shopping é indiciado por homofobia em SP (Reprorudução/Facebook)'},\n",
       " {'link': 'https://www.techtudo.com.br/noticias/2018/02/locao-do-boticario-vira-isca-para-golpe-no-whatsapp-alerta-psafe.ghtml',\n",
       "  'title': \"Golpe no WhatsApp atinge milhares no Brasil com 'promoção' (Tainah Tavares / TechTudo)\"},\n",
       " {'link': 'https://g1.globo.com/rj/rio-de-janeiro/noticia/uma-pessoa-morreu-e-outra-teve-as-pernas-amputadas-na-queda-de-um-elevador-no-catete-no-rio.ghtml',\n",
       "  'title': 'Queda de elevador do 11º andar no RJ deixa um morto e outro gravemente ferido (Reprodução TV Globo)'},\n",
       " {'link': 'https://g1.globo.com/sp/santos-regiao/noticia/mc-kauan-e-absolvido-da-acusacao-de-trafico-de-drogas-nasceu-de-novo.ghtml',\n",
       "  'title': 'MC Kauan é absolvido de tráfico; PMs podem ter forjado flagrante (Reprodução)'},\n",
       " {'link': 'https://revistamarieclaire.globo.com/Amor-e-Sexo/noticia/2018/02/influencers-do-sexo-vida-das-prostitutas-que-sao-famosas-na-web.html',\n",
       "  'title': 'Jornalista investiga a vida de prostitutas famosas nas redes (Divulgação)'},\n",
       " {'link': 'https://extra.globo.com/esporte/vaz-apresentado-na-la-e-diz-entender-criticas-da-torcida-do-fla-vim-de-um-rival-22405133.html',\n",
       "  'title': \"Vaz é apresentado em 'La U' e lembra críticas no Fla: 'Era óbvio' (Reprodução)\"},\n",
       " {'link': 'https://globoesporte.globo.com/blogs/brasil-mundial-fc/noticia/willian-ganha-trofeu-de-gol-do-mes-do-campeonato-ingles-especial.ghtml',\n",
       "  'title': \"'Pintura' após tabela rende prêmio de 'gol do mês' a Willian; veja (Reuters/Paul Childs)\"},\n",
       " {'link': 'http://globoesporte.globo.com/futebol/futebol-internacional/jogo/16-02-2018/chelsea-hull-city/',\n",
       "  'title': 'Willian abre para o Chelsea contra o Hull pela Copa; SIGA TR (Paul Childs/Reuters)'},\n",
       " {'link': 'https://globoesporte.globo.com/futebol/times/corinthians/noticia/preocupada-direcao-do-corinthians-admite-sondagem-a-diego-tardelli-e-nega-kardec.ghtml',\n",
       "  'title': 'Corinthians confirma interesse em Tardelli, mas nega ofertas a Kardec e Guerrero (Aldo Carneiro / Pernambuco Press)'},\n",
       " {'link': 'https://globoesporte.globo.com/futebol/times/cruzeiro/noticia/cruzeiro-inicia-conversa-para-renovar-com-arrascaeta-e-acertar-divida-com-o-defensor.ghtml',\n",
       "  'title': 'Processado na Fifa, Cruzeiro negocia com Arrascaeta e Defensor (Agencia i7)'},\n",
       " {'link': 'https://extra.globo.com/esporte/gilmar-ferreira/vasco-busca-equiparacao-entre-titulo-do-sul-americano-de-48-a-libertadores-22404389.html',\n",
       "  'title': 'Vasco quer equiparar título Sul-Americano de 48 e a Libertadores (Reprodução)'},\n",
       " {'link': 'https://globoesporte.globo.com/futebol/futebol-internacional/noticia/quatro-brasileiros-sao-citados-em-lista-de-piores-da-historia-do-futebol-ingles.ghtml',\n",
       "  'title': 'Jô, Roque Jr., Gilberto e Jardel entram em top com os 50 piores da história do futebol inglês (Reprodução)'},\n",
       " {'link': 'https://globoesporte.globo.com/tenis/noticia/historico-federer-vence-holandes-e-volta-a-ser-o-tenista-numero-1-do-mundo.ghtml',\n",
       "  'title': 'Após 5 anos, Federer vence holandês e volta a ser nº 1 do mundo (Divulgação / ATP de Roterdã)'},\n",
       " {'link': 'https://globoesporte.globo.com/olimpiadas-de-inverno/noticia/a-batalha-do-besuntado-de-tonga-so-pedia-a-deus-que-me-deixasse-terminar.ghtml',\n",
       "  'title': \"'Pedia a Deus que me deixasse terminar', diz 'besuntado de Tonga' (Reuters)\"},\n",
       " {'link': 'http://revistaglamour.globo.com/Celebridades/noticia/2018/02/cristiana-oliveira-curte-ferias-no-maranhao-viagem-para-vida.html',\n",
       "  'title': 'Cristiana Oliveira curte férias no Maranhão, e fãs são só elogio (Instagram/Reprodução)'},\n",
       " {'link': 'https://gshow.globo.com/novelas/deus-salve-o-rei/vem-por-ai/noticia/afonso-resgata-catarina.ghtml',\n",
       "  'title': \"'Deus Salve': Afonso chega a cativeiro e resgata Catarina (Artur Meninea/Gshow)\"},\n",
       " {'link': 'https://revistaquem.globo.com/QUEM-News/noticia/2018/02/aos-55-claudia-ohana-mostra-boa-forma-em-foto-na-piscina.html',\n",
       "  'title': 'Claudia Ohana volta a exibir ótima forma em clique sob o sol (Reprodução Instagram)'},\n",
       " {'link': 'http://revistamonet.globo.com/Celebridades/noticia/2018/02/filha-de-elvis-tem-dividas-de-mais-de-us-16-milhoes.html',\n",
       "  'title': 'Lisa Marie Presley, filha de Elvis, torra US$ 1 bi herdado do pai e tem dívidas de US$ 16 mi (Cassia Tabatini / Arquivo Glamour)'},\n",
       " {'link': 'http://multishow.globo.com/programas/os-gretchens/materias/nos-bastidores-de-reality-gretchen-conhece-iza-e-pabllo-vittar-enquanto-thammy-e-andresse-terminam-festa-com-dr.htm',\n",
       "  'title': \"Thammy tem 'DR' com Andressa após festão em reality (Multishow)\"},\n",
       " {'link': 'https://extra.globo.com/famosos/caua-reymond-faz-guerra-de-lama-com-amigos-em-fernando-de-noronha-fotos-22405157.html',\n",
       "  'title': 'Cauã Reymond se joga na lama com amigos em Noronha (Reprodução/Instagran)'},\n",
       " {'link': 'https://extra.globo.com/tv-e-lazer/musica/jojo-todynho-diz-como-descobriu-que-tinha-perdido-12kg-passei-sem-esforco-pelo-banheiro-do-aviao-22404192.html',\n",
       "  'title': \"Jojo diz como descobriu ter perdido 12kg: 'Passei sem esforço pelo banheiro do avião' (Felipe Panfili)\"},\n",
       " {'link': 'https://extra.globo.com/esporte/flamengo/julio-cesar-da-festinha-em-casa-recebe-os-diegos-depois-cai-na-faxina-com-mulher-22405001.html',\n",
       "  'title': 'Julio Cesar dá festa em casa e depois faz faxina com Susana (Reprodução/Instagran)'},\n",
       " {'link': 'https://revistaquem.globo.com/QUEM-News/noticia/2018/02/excluida-do-carnaval-tati-minerato-exibe-tanquinho-e-marca-de-bronzeado.html',\n",
       "  'title': \"Após briga pré-folia, Tati Minerato exibe bronze 'estilo Anitta' (reprodução / Instagram)\"},\n",
       " {'link': 'https://globoplay.globo.com/v/6508398/',\n",
       "  'title': \"Nelson Freitas viaja ao passado e mostra como era a vida 'Antes da Fama' (Reprodução de Vídeo/TV Globo)\"},\n",
       " {'link': 'https://globoplay.globo.com/v/6507898/',\n",
       "  'title': 'Isabel Clark se machuca antes de estreia nos Jogos'},\n",
       " {'link': 'https://globoplay.globo.com/v/6507518/',\n",
       "  'title': 'Vírus da febre amarela é achado em novo mosquito'},\n",
       " {'link': 'https://globoplay.globo.com/v/6508217/',\n",
       "  'title': 'Venezuelanos têm situação caótica em Roraima'},\n",
       " {'link': 'https://globoplay.globo.com/v/6507390/',\n",
       "  'title': 'Confira as tendências de moda praia deste verão'},\n",
       " {'link': 'http://vogue.globo.com/moda/guia-de-estilo/noticia/2018/02/ano-do-cao-inspire-se-no-horoscopo-chines-para-incorporar-o-animal-da-vez-nos-looks.html',\n",
       "  'title': 'Regente do ano novo chinês, cão inspira acessórios fofos (Divulgação)'},\n",
       " {'link': 'https://revistamarieclaire.globo.com/Beleza/noticia/2018/02/dossie-da-fotodepilacao-como-funciona-e-seus-resultados.html',\n",
       "  'title': 'Aprenda sobre fotodepilação (e veja se vale para você) (Think Stock)'},\n",
       " {'link': 'http://revistaglamour.globo.com/Beleza/Maquiagem/noticia/2018/02/reunimos-top-7-tendencias-de-make-e-cabelo-para-o-inverno-2018.html',\n",
       "  'title': 'Confira top 7 tendências de make e cabelo para o inverno (Reprodução/ImaxTree)'},\n",
       " {'link': 'http://vogue.globo.com/beleza/fitness-e-dieta/noticia/2018/02/detox-pos-folia-um-cardapio-para-recuperar-dos-excessos-do-carnaval.html',\n",
       "  'title': 'Exagerou na folia? Veja dicas para se recuperar em 2 dias (Fernando Gomez )'},\n",
       " {'link': 'https://globoesporte.globo.com/eu-atleta/saude/noticia/confira-10-dicas-para-manter-os-seus-pes-saudaveis-e-sem-dores.ghtml',\n",
       "  'title': 'Cuide bem dos seus pés com estes truques simples (Reprodução/Getty Images)'},\n",
       " {'link': 'https://revistacrescer.globo.com/Criancas/Alimentacao/Lancheira/noticia/2018/02/como-preparar-lancheira-do-seu-filho.html',\n",
       "  'title': 'Veja como preparar uma lancheira gostosa e saudável (Foto: Carlos Cubi /Editora Globo)'},\n",
       " {'link': 'https://globosatplay.globo.com/gnt/v/5479531/?utm_source=globo.com&utm_medium=referral&utm_campaign=trilhogcom&utm_term=gnt&utm_content=desengaveta_monicamartelli',\n",
       "  'title': 'Mônica Martelli desengaveta enquanto conta história dos looks (Reprodução)'},\n",
       " {'link': 'https://globosatplay.globo.com/canal-off/v/5091978/?utm_source=globo.com&utm_medium=referral&utm_campaign=trilhogcom&utm_term=off&utm_content=80etal_mundonewwave',\n",
       "  'title': \"Quem disse que o carnaval acabou? 'O Mundo é New Wave'!\"},\n",
       " {'link': 'https://globosatplay.globo.com/bis/v/5898287/?utm_source=globo.com&utm_medium=referral&utm_campaign=trilhogcom&utm_term=bis&utm_content=exclusivos_docqueen',\n",
       "  'title': 'Banda Queen conta sua própria história nesse doc exclusivo'},\n",
       " {'link': 'https://globoplay.globo.com/v/6507627/',\n",
       "  'title': \"Como a casa reagiu à liderança da Família Lima; tudo no 'Click BBB' (Reprodução)\"},\n",
       " {'link': 'https://globoplay.globo.com/v/6507587/',\n",
       "  'title': 'Convidados avaliam como avisar às crianças sobre a separação'},\n",
       " {'link': 'https://globoplay.globo.com/v/6477182/%20%20%20',\n",
       "  'title': 'Relembre Didi, Dedé, Mussum e Zacarias no show de Wando (Reprodução)'}]"
      ]
     },
     "execution_count": 7,
     "metadata": {},
     "output_type": "execute_result"
    }
   ],
   "source": [
    "data"
   ]
  },
  {
   "cell_type": "code",
   "execution_count": null,
   "metadata": {
    "collapsed": true
   },
   "outputs": [],
   "source": []
  }
 ],
 "metadata": {
  "kernelspec": {
   "display_name": "Python 3",
   "language": "python",
   "name": "python3"
  },
  "language_info": {
   "codemirror_mode": {
    "name": "ipython",
    "version": 3
   },
   "file_extension": ".py",
   "mimetype": "text/x-python",
   "name": "python",
   "nbconvert_exporter": "python",
   "pygments_lexer": "ipython3",
   "version": "3.6.3"
  }
 },
 "nbformat": 4,
 "nbformat_minor": 2
}
