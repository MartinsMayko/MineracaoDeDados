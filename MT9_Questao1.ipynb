{
 "cells": [
  {
   "cell_type": "markdown",
   "metadata": {},
   "source": [
    "# Crawler site globo.com"
   ]
  },
  {
   "cell_type": "code",
   "execution_count": 1,
   "metadata": {
    "collapsed": true
   },
   "outputs": [],
   "source": [
    "import requests\n",
    "from bs4 import BeautifulSoup"
   ]
  },
  {
   "cell_type": "code",
   "execution_count": 2,
   "metadata": {
    "collapsed": true
   },
   "outputs": [],
   "source": [
    "START_URL = \"http://www.globo.com/\""
   ]
  },
  {
   "cell_type": "code",
   "execution_count": 3,
   "metadata": {
    "collapsed": true
   },
   "outputs": [],
   "source": [
    "def get_post_links():\n",
    "    html = requests.get(START_URL).content\n",
    "    soup = BeautifulSoup(html)\n",
    "    return soup.findAll('a', rel ='bookmark')"
   ]
  },
  {
   "cell_type": "code",
   "execution_count": 4,
   "metadata": {
    "collapsed": true
   },
   "outputs": [],
   "source": [
    "def extract_data_from_link(post_link_tag):\n",
    "    return{\n",
    "        'link': post_link_tag.attrs['href'],\n",
    "        'título': post_link_tag.attrs['title'],\n",
    "    }"
   ]
  },
  {
   "cell_type": "code",
   "execution_count": 5,
   "metadata": {},
   "outputs": [
    {
     "name": "stderr",
     "output_type": "stream",
     "text": [
      "C:\\Users\\Mayko\\Anaconda3\\lib\\site-packages\\bs4\\__init__.py:181: UserWarning: No parser was explicitly specified, so I'm using the best available HTML parser for this system (\"lxml\"). This usually isn't a problem, but if you run this code on another system, or in a different virtual environment, it may use a different parser and behave differently.\n",
      "\n",
      "The code that caused this warning is on line 193 of the file C:\\Users\\Mayko\\Anaconda3\\lib\\runpy.py. To get rid of this warning, change code that looks like this:\n",
      "\n",
      " BeautifulSoup(YOUR_MARKUP})\n",
      "\n",
      "to this:\n",
      "\n",
      " BeautifulSoup(YOUR_MARKUP, \"lxml\")\n",
      "\n",
      "  markup_type=markup_type))\n"
     ]
    }
   ],
   "source": [
    "posts = get_post_links()\n",
    "data = []"
   ]
  },
  {
   "cell_type": "code",
   "execution_count": 6,
   "metadata": {
    "collapsed": true
   },
   "outputs": [],
   "source": [
    "for post in posts:\n",
    "    post_data = extract_data_from_link(post)\n",
    "    data.append(post_data)"
   ]
  },
  {
   "cell_type": "code",
   "execution_count": 7,
   "metadata": {},
   "outputs": [
    {
     "data": {
      "text/plain": [
       "[{'link': 'https://g1.globo.com/ms/mato-grosso-do-sul/noticia/carro-de-luxo-com-r-48-mil-em-debitos-e-apreendido-em-blitz-em-area-nobre-de-campo-grande.ghtml',\n",
       "  'título': 'Com dívidas de R$ 48 mil, carro de luxo é apreendido em blitz (BPTran/Divulgação)'},\n",
       " {'link': 'https://globoesporte.globo.com/volei/noticia/giba-nega-expedicao-de-mandado-de-prisao-e-diz-pagar-pensao-a-filhos-valor-mais-que-justo.ghtml',\n",
       "  'título': \"Giba nega mandado de prisão por pensão: 'Valor mais que justo' (Reprodução/RPC)\"},\n",
       " {'link': 'https://g1.globo.com/sp/sao-paulo/noticia/nao-queria-que-meu-filho-nascesse-num-lugar-daquele-diz-mae-presa-com-recem-nascido-em-sp.ghtml',\n",
       "  'título': \"Presa com bebê: 'Não queria que nascesse num lugar daquele' (GloboNews/Reprodução)\"},\n",
       " {'link': 'https://g1.globo.com/rj/regiao-serrana/noticia/corpo-de-crianca-enterrado-ha-seis-meses-em-quintal-de-casa-no-rj-e-encontrado-mae-e-padrasto-trocam-acusacoes-diz-policia.ghtml',\n",
       "  'título': 'Mãe e padrasto trocam acusações sobre morte e ocultação de corpo de bebê (Reprodução Facebook)'},\n",
       " {'link': 'https://g1.globo.com/go/goias/noticia/video-mostra-mulher-e-namorado-suspeito-de-mata-la-horas-antes-do-corpo-ser-achado-em-apartamento.ghtml',\n",
       "  'título': 'Vídeo mostra mulher e namorado suspeito horas antes de morte (TV Anhanguera)'},\n",
       " {'link': 'https://www.techtudo.com.br/dicas-e-tutoriais/2018/02/teste-revela-qual-seria-sua-aparencia-se-voce-fosse-do-genero-oposto.ghtml',\n",
       "  'título': 'Teste mostra você no sexo oposto e vira febre na web; confira (teste-home-33)'},\n",
       " {'link': 'https://www.techtudo.com.br/noticias/2018/02/notebook-samsung-essentials-e35s-e-bom-veja-analise-de-especificacoes.ghtml',\n",
       "  'título': 'Notebook chique da Samsung promete potência e preço justo; veja se vale a pena (Heloise Hamada/G1)'},\n",
       " {'link': 'https://g1.globo.com/sp/sao-jose-do-rio-preto-aracatuba/noticia/dona-de-casa-e-contida-por-pm-apos-ameacar-ex-marido-e-filha-com-canivete-em-santa-salete.ghtml',\n",
       "  'título': 'Mulher ameaça filha de 2 anos e ex-marido com canivete e é presa (Polícia Militar/Divulgação)'},\n",
       " {'link': 'https://g1.globo.com/sp/sao-paulo/noticia/video-mostra-brigas-e-invasoes-de-trilhos-do-metro-no-carnaval-de-sp.ghtml',\n",
       "  'título': 'Vídeo mostra brigas e invasões no Metrô no carnaval de SP (Metrô/SP)'},\n",
       " {'link': 'https://globoesporte.globo.com/sp/tem-esporte/volei/noticia/no-olho-do-furacao-tifanny-se-blinda-de-criticas-continuo-amando-todos.ghtml',\n",
       "  'título': \"No olho do furacão, Tifanny se blinda: 'Continuo amando todos' (Reprodução)\"},\n",
       " {'link': 'https://globoesporte.globo.com/futebol/selecao-brasileira/noticia/auxiliar-de-tite-vai-ao-corinthians-e-ve-jadson-perder-posicao-em-treino.ghtml',\n",
       "  'título': 'Auxiliar de Tite vai ao Corinthians e vê Jadson perder posição (Bruno Cassucci)'},\n",
       " {'link': 'https://globoesporte.globo.com/futebol/futebol-internacional/futebol-italiano/noticia/em-mais-uma-boa-atuacao-de-alisson-roma-bate-udinese-e-fica-em-terceiro.ghtml',\n",
       "  'título': 'Alisson volta a se destacar, Roma vence Udinese e sobe para 3º (EFE)'},\n",
       " {'link': 'https://globoesporte.globo.com/futebol/futebol-internacional/noticia/fenerbahce-vence-com-dois-de-giuliano-e-pressiona-galatasaray-na-ponta.ghtml',\n",
       "  'título': 'Alô, Tite! Giuliano marca dois na vitória do Fenerbahçe e time se aproxima da ponta (Marcos Ribolli)'},\n",
       " {'link': 'https://globoesporte.globo.com/futebol/futebol-internacional/noticia/robinho-marca-dois-e-da-assistencia-em-vitoria-do-sivasspor-na-turquia.ghtml',\n",
       "  'título': 'Robinho faz dois e dá assistência no 1º jogo como titular no Turcão (Divulgação)'},\n",
       " {'link': 'https://globoesporte.globo.com/futebol/times/corinthians/noticia/diego-tardelli-agradece-interesse-do-corinthians-mas-diz-que-quer-ficar-na-china.ghtml',\n",
       "  'título': 'Tardelli agradece Timão, mas diz que quer ficar na China (Reprodução/Sina.com)'},\n",
       " {'link': 'https://globoesporte.globo.com/basquete/nbb/noticia/com-marcelinho-e-marquinho-afinados-flamengo-bate-o-bauru-no-rio.ghtml',\n",
       "  'título': 'Com Marcelinho e Marquinhos afinados e baile no fim, Fla bate Bauru no Rio pelo NBB (Aldo Carneiro / Pernambuco Press)'},\n",
       " {'link': 'https://globoesporte.globo.com/olimpiadas-de-inverno/noticia/fechou-o-tempo-brigas-marcam-vitoria-dos-russos-sobre-os-eua-no-hoquei-no-gelo.ghtml',\n",
       "  'título': 'Vídeo: vitória russa sobre EUA tem briga em PyeongChang (Reprodução de Vídeo/SporTv)'},\n",
       " {'link': 'https://globoesporte.globo.com/olimpiadas-de-inverno/noticia/quatro-vezes-pede-musica-aonde-patinador-tem-show-de-quedas-na-final-olimpica.ghtml',\n",
       "  'título': 'Patinador tem show de quedas na final e fica em último; vídeo (REUTERS/Damir Sagolj)'},\n",
       " {'link': 'http://revistaglamour.globo.com/Celebridades/noticia/2018/02/anitta-para-bloco-e-da-bronca-ao-ver-roubo-de-celular-eu-tambem-nao-tinha-condicao.html',\n",
       "  'título': \"Anitta para bloco ao ver roubo: 'Eu também não tinha condição' (Instagram/Reprodução)\"},\n",
       " {'link': 'https://g1.globo.com/sp/sao-paulo/carnaval/2018/noticia/tapume-cai-sobre-folioes-e-claudia-leitte-interrompe-show-em-bloco-na-avenida-23-de-maio.ghtml',\n",
       "  'título': 'Em SP, tapume cai sobre foliões e Claudia Leitte para de cantar'},\n",
       " {'link': 'http://vogue.globo.com/moda/gente/noticia/2018/02/luana-piovani-exibe-silhueta-invejavel.html',\n",
       "  'título': 'De cervejinha na mão, Luana Piovani exibe silhueta invejável (Reprodução/Instagram)'},\n",
       " {'link': 'https://gshow.globo.com/realities/bbb/BBB18/noticia/ana-paula-do-bbb18-nao-foge-dos-desafios-e-sonha-com-a-carreira-de-atriz-quero-meu-espaco.ghtml',\n",
       "  'título': \"Ex-sister Ana Paula sonha com carreira de atriz após rejeição recorde no 'BBB' (Isabella Pinheiro/Gshow)\"},\n",
       " {'link': 'https://epoca.globo.com/sociedade/bruno-astuto/noticia/2018/02/volta-da-coleira-luma-de-oliveira-e-homenageada-e-relembra-polemica.html',\n",
       "  'título': \"Luma comenta 'volta' da coleira: 'Nada a ver com submissão' (André Arruda/ Marcos Ramos /Agência O Globo)\"},\n",
       " {'link': 'https://revistaquem.globo.com/QUEM-News/noticia/2018/02/minha-parceira-diz-tulio-gadelha-sobre-fatima-bernardes.html',\n",
       "  'título': 'Namorado manda beijinho para Fátima em vídeo e se declara (reprodução / Instagram)'},\n",
       " {'link': 'http://revistamonet.globo.com/Listas/noticia/2018/02/que-feio-celebs-internacionais-conhecidas-por-tratarem-mal-os-seus-assistentes.html',\n",
       "  'título': 'Conheça as celebridades internacionais conhecidas por tratarem mal os assistentes (Cassia Tabatini / Arquivo Glamour)'},\n",
       " {'link': 'https://gshow.globo.com/programas/caldeirao-do-huck/noticia/iza-solta-a-voz-no-palco-do-caldeirao-e-conquista-a-web.ghtml',\n",
       "  'título': \"Iza solta a voz no palco do 'Caldeirão' e conquista a web (Globo/Raquel Cunha)\"},\n",
       " {'link': 'http://vogue.globo.com/moda/gente/noticia/2018/02/dupla-explosiva-yanna-lavigne-e-mari-goldfarb-malham-juntas-no-rio.html',\n",
       "  'título': \"Yanna Lavigne e Mari Goldfarb malham no Rio: 'Dupla explosiva' (Reprodução/Instagram)\"},\n",
       " {'link': 'https://globoplay.globo.com/v/6510519/',\n",
       "  'título': 'Treze morrem em queda de helicóptero que sobrevoava áreas após terremoto (Reprodução de Vídeo/TV Globo)'},\n",
       " {'link': 'https://globoplay.globo.com/v/6510551/',\n",
       "  'título': 'PF apreende armas que seriam traficadas para RJ'},\n",
       " {'link': 'https://globoplay.globo.com/v/6510431/',\n",
       "  'título': 'Juan desfalca Fla antes de final contra o Boavista'},\n",
       " {'link': 'https://globoplay.globo.com/v/6510563/',\n",
       "  'título': \"Breno e Paula são 'vítimas' do Castigo do Monstro\"},\n",
       " {'link': 'https://globoplay.globo.com/v/6510069/',\n",
       "  'título': 'Veja como fazer um pufe com pneu velho e sisal'},\n",
       " {'link': 'https://revistamarieclaire.globo.com/Beleza/noticia/2018/02/nuca-mostra-opcoes-de-cortes-medios-curtos-e-raspados.html',\n",
       "  'título': 'Confira opções de cortes médios, curtos e raspados (Rodrigo Bueno (SD MGMT))'},\n",
       " {'link': 'http://vogue.globo.com/beleza/gente/noticia/2018/02/pathy-dejesus-fala-sobre-beleza-aos-40-anos-busco-o-equilibrio-entre-corpo-e-alma.html',\n",
       "  'título': \"'Busco equilíbrio entre corpo e alma', diz Pathy Dejesus  (Divulgação)\"},\n",
       " {'link': 'https://extra.globo.com/famosos/gemeas-lacracao-ja-lacravam-em-ensaios-de-moda-praia-antes-da-fama-elas-vendem-biquinis-22405440.html',\n",
       "  'título': \"Conheça a moda praia das 'gêmeas lacração'; fotos (reprodução/instagram)\"},\n",
       " {'link': 'http://casavogue.globo.com/Interiores/Ambientes/noticia/2018/02/casa-vogue-ama-portas-de-entrada-criativas.html',\n",
       "  'título': 'Portas de entrada criativas inovam visual exterior; veja (Reprodução)'},\n",
       " {'link': 'https://revistacrescer.globo.com/Festa-de-aniversario/Temas/noticia/2018/02/tema-de-festa-heroinas.html',\n",
       "  'título': 'Inspire-se em festa infantil com temática de heroínas (Thais Galardi/GNT)'},\n",
       " {'link': 'https://revistacasaejardim.globo.com/Casa-e-Jardim/Arquitetura/noticia/2018/02/cobertura-duplex-antiga-passa-por-reforma-completa.html',\n",
       "  'título': 'Cobertura dúplex antiga passa por reforma completa (Juliano Colodeti/MCA Estúdio/Divulgação)'},\n",
       " {'link': 'http://philos.tv/video/black-lives-matter-o-movimento-negro-hoje/63960/?utm_source=globo.com&utm_medium=philos_blacklivesmatter&utm_campaign=trilhogcom',\n",
       "  'título': 'A nova geração de ativistas pela igualdade racial nos EUA (Reprodução)'},\n",
       " {'link': 'https://globosatplay.globo.com/canal-off/v/5583320/?utm_source=globo.com&utm_medium=referral&utm_campaign=trilhogcom&utm_term=off&utm_content=waterman_swellcaboverde',\n",
       "  'título': 'Kauli larga tudo e parte para Cabo Verde para um swell inédito'},\n",
       " {'link': 'https://globosatplay.globo.com/megapix/v/6458194/?utm_source=globo.com&utm_medium=referral&utm_campaign=trilhogcom&utm_term=megapix&utm_content=natocadotigre',\n",
       "  'título': 'Na Toca do Tigre: assista ao filme completo no Megapix Play'},\n",
       " {'link': 'https://globoplay.globo.com/v/6510792/',\n",
       "  'título': 'Venezuelanos continuam cruzando fronteira com Brasil'},\n",
       " {'link': 'https://globoplay.globo.com/v/6509989/',\n",
       "  'título': \"Babado Novo agita programa cantando 'Bola de Sabão'\"},\n",
       " {'link': 'https://globoplay.globo.com/v/6509986/',\n",
       "  'título': \"Dennis DJ agita festa e incentiva declarações; veja o 'Click BBB' (Reprodução)\"}]"
      ]
     },
     "execution_count": 7,
     "metadata": {},
     "output_type": "execute_result"
    }
   ],
   "source": [
    "data"
   ]
  },
  {
   "cell_type": "code",
   "execution_count": null,
   "metadata": {
    "collapsed": true
   },
   "outputs": [],
   "source": []
  }
 ],
 "metadata": {
  "kernelspec": {
   "display_name": "Python 3",
   "language": "python",
   "name": "python3"
  },
  "language_info": {
   "codemirror_mode": {
    "name": "ipython",
    "version": 3
   },
   "file_extension": ".py",
   "mimetype": "text/x-python",
   "name": "python",
   "nbconvert_exporter": "python",
   "pygments_lexer": "ipython3",
   "version": "3.6.3"
  }
 },
 "nbformat": 4,
 "nbformat_minor": 2
}
