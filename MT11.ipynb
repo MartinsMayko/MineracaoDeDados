{
 "cells": [
  {
   "cell_type": "markdown",
   "metadata": {},
   "source": [
    "# Relação de Servidores Ativos da Prefeitura Municipal de Assú - 2017"
   ]
  },
  {
   "cell_type": "code",
   "execution_count": 16,
   "metadata": {
    "collapsed": true
   },
   "outputs": [],
   "source": [
    "import pandas as pd\n",
    "import numpy as np\n",
    "import matplotlib.pyplot as plt\n",
    "import matplotlib.patches as mpatches\n",
    "\n",
    "dataframe_excel = pd.read_excel('RelacaoServidores.xls', sheetname=0, header=0)"
   ]
  },
  {
   "cell_type": "code",
   "execution_count": 3,
   "metadata": {},
   "outputs": [
    {
     "data": {
      "text/html": [
       "<div>\n",
       "<style>\n",
       "    .dataframe thead tr:only-child th {\n",
       "        text-align: right;\n",
       "    }\n",
       "\n",
       "    .dataframe thead th {\n",
       "        text-align: left;\n",
       "    }\n",
       "\n",
       "    .dataframe tbody tr th {\n",
       "        vertical-align: top;\n",
       "    }\n",
       "</style>\n",
       "<table border=\"1\" class=\"dataframe\">\n",
       "  <thead>\n",
       "    <tr style=\"text-align: right;\">\n",
       "      <th></th>\n",
       "      <th>Nome</th>\n",
       "      <th>CPF</th>\n",
       "      <th>Cargo</th>\n",
       "      <th>Lotação</th>\n",
       "      <th>Investidura</th>\n",
       "      <th>Salário bruto</th>\n",
       "      <th>Descontos</th>\n",
       "      <th>Salário líquido</th>\n",
       "    </tr>\n",
       "  </thead>\n",
       "  <tbody>\n",
       "    <tr>\n",
       "      <th>0</th>\n",
       "      <td>ABILENE SOARES DA SILVA SOUZA</td>\n",
       "      <td>***.064.284-**</td>\n",
       "      <td>AUXILIAR DE SERVICOS GERAIS</td>\n",
       "      <td>SECRETARIA MUNICIPAL DE GOVERNO</td>\n",
       "      <td>CONCURSADO</td>\n",
       "      <td>1171.25</td>\n",
       "      <td>111.26</td>\n",
       "      <td>1059.99</td>\n",
       "    </tr>\n",
       "    <tr>\n",
       "      <th>1</th>\n",
       "      <td>ABILENE SOARES DA SILVA SOUZA</td>\n",
       "      <td>***.064.284-**</td>\n",
       "      <td>AUXILIAR DE SERVICOS GERAIS</td>\n",
       "      <td>SECRETARIA MUNICIPAL DE GOVERNO</td>\n",
       "      <td>CONCURSADO</td>\n",
       "      <td>1171.25</td>\n",
       "      <td>111.26</td>\n",
       "      <td>1059.99</td>\n",
       "    </tr>\n",
       "    <tr>\n",
       "      <th>2</th>\n",
       "      <td>ABILENE SOARES DA SILVA SOUZA</td>\n",
       "      <td>***.064.284-**</td>\n",
       "      <td>AUXILIAR DE SERVICOS GERAIS</td>\n",
       "      <td>SECRETARIA MUNICIPAL DE GOVERNO</td>\n",
       "      <td>CONCURSADO</td>\n",
       "      <td>1171.25</td>\n",
       "      <td>142.49</td>\n",
       "      <td>1028.76</td>\n",
       "    </tr>\n",
       "    <tr>\n",
       "      <th>3</th>\n",
       "      <td>ABILENE SOARES DA SILVA SOUZA</td>\n",
       "      <td>***.064.284-**</td>\n",
       "      <td>AUXILIAR DE SERVICOS GERAIS</td>\n",
       "      <td>SECRETARIA MUNICIPAL DE GOVERNO</td>\n",
       "      <td>CONCURSADO</td>\n",
       "      <td>1171.25</td>\n",
       "      <td>111.26</td>\n",
       "      <td>1059.99</td>\n",
       "    </tr>\n",
       "    <tr>\n",
       "      <th>4</th>\n",
       "      <td>ABILENE SOARES DA SILVA SOUZA</td>\n",
       "      <td>***.064.284-**</td>\n",
       "      <td>AUXILIAR DE SERVICOS GERAIS</td>\n",
       "      <td>SECRETARIA MUNICIPAL DE GOVERNO</td>\n",
       "      <td>CONCURSADO</td>\n",
       "      <td>1171.25</td>\n",
       "      <td>111.26</td>\n",
       "      <td>1059.99</td>\n",
       "    </tr>\n",
       "  </tbody>\n",
       "</table>\n",
       "</div>"
      ],
      "text/plain": [
       "                            Nome             CPF                        Cargo  \\\n",
       "0  ABILENE SOARES DA SILVA SOUZA  ***.064.284-**  AUXILIAR DE SERVICOS GERAIS   \n",
       "1  ABILENE SOARES DA SILVA SOUZA  ***.064.284-**  AUXILIAR DE SERVICOS GERAIS   \n",
       "2  ABILENE SOARES DA SILVA SOUZA  ***.064.284-**  AUXILIAR DE SERVICOS GERAIS   \n",
       "3  ABILENE SOARES DA SILVA SOUZA  ***.064.284-**  AUXILIAR DE SERVICOS GERAIS   \n",
       "4  ABILENE SOARES DA SILVA SOUZA  ***.064.284-**  AUXILIAR DE SERVICOS GERAIS   \n",
       "\n",
       "                           Lotação Investidura  Salário bruto  Descontos  \\\n",
       "0  SECRETARIA MUNICIPAL DE GOVERNO  CONCURSADO        1171.25     111.26   \n",
       "1  SECRETARIA MUNICIPAL DE GOVERNO  CONCURSADO        1171.25     111.26   \n",
       "2  SECRETARIA MUNICIPAL DE GOVERNO  CONCURSADO        1171.25     142.49   \n",
       "3  SECRETARIA MUNICIPAL DE GOVERNO  CONCURSADO        1171.25     111.26   \n",
       "4  SECRETARIA MUNICIPAL DE GOVERNO  CONCURSADO        1171.25     111.26   \n",
       "\n",
       "   Salário líquido  \n",
       "0          1059.99  \n",
       "1          1059.99  \n",
       "2          1028.76  \n",
       "3          1059.99  \n",
       "4          1059.99  "
      ]
     },
     "execution_count": 3,
     "metadata": {},
     "output_type": "execute_result"
    }
   ],
   "source": [
    "dataframe_excel.head()"
   ]
  },
  {
   "cell_type": "code",
   "execution_count": 4,
   "metadata": {},
   "outputs": [
    {
     "name": "stdout",
     "output_type": "stream",
     "text": [
      "                                  Nome             CPF  \\\n",
      "0        ABILENE SOARES DA SILVA SOUZA  ***.064.284-**   \n",
      "1        ABILENE SOARES DA SILVA SOUZA  ***.064.284-**   \n",
      "2        ABILENE SOARES DA SILVA SOUZA  ***.064.284-**   \n",
      "3        ABILENE SOARES DA SILVA SOUZA  ***.064.284-**   \n",
      "4        ABILENE SOARES DA SILVA SOUZA  ***.064.284-**   \n",
      "5        ABILENE SOARES DA SILVA SOUZA  ***.064.284-**   \n",
      "6        ABILENE SOARES DA SILVA SOUZA  ***.064.284-**   \n",
      "7        ABILENE SOARES DA SILVA SOUZA  ***.064.284-**   \n",
      "8        ABILENE SOARES DA SILVA SOUZA  ***.064.284-**   \n",
      "9        ABILENE SOARES DA SILVA SOUZA  ***.064.284-**   \n",
      "10       ABILENE SOARES DA SILVA SOUZA  ***.064.284-**   \n",
      "11       ABILENE SOARES DA SILVA SOUZA  ***.064.284-**   \n",
      "12       ABILENE SOARES DA SILVA SOUZA  ***.064.284-**   \n",
      "13     ACACIA GARDENIA BARBOSA E SILVA  ***.851.114-**   \n",
      "14     ACACIA GARDENIA BARBOSA E SILVA  ***.851.114-**   \n",
      "15     ACACIA GARDENIA BARBOSA E SILVA  ***.851.114-**   \n",
      "16     ACACIA GARDENIA BARBOSA E SILVA  ***.851.114-**   \n",
      "17     ACACIA GARDENIA BARBOSA E SILVA  ***.851.114-**   \n",
      "18     ACACIA GARDENIA BARBOSA E SILVA  ***.851.114-**   \n",
      "19     ACACIA GARDENIA BARBOSA E SILVA  ***.851.114-**   \n",
      "20     ACACIA GARDENIA BARBOSA E SILVA  ***.851.114-**   \n",
      "21     ACACIA GARDENIA BARBOSA E SILVA  ***.851.114-**   \n",
      "22     ACACIA GARDENIA BARBOSA E SILVA  ***.851.114-**   \n",
      "23     ACACIA GARDENIA BARBOSA E SILVA  ***.851.114-**   \n",
      "24     ACACIA GARDENIA BARBOSA E SILVA  ***.851.114-**   \n",
      "25     ACACIA GARDENIA BARBOSA E SILVA  ***.851.114-**   \n",
      "26                    ADELAIDE DE MELO  ***.496.884-**   \n",
      "27                    ADELAIDE DE MELO  ***.496.884-**   \n",
      "28                    ADELAIDE DE MELO  ***.496.884-**   \n",
      "29                    ADELAIDE DE MELO  ***.496.884-**   \n",
      "...                                ...             ...   \n",
      "17686                  ZORAIDE FONSECA  ***.465.754-**   \n",
      "17687                  ZORAIDE FONSECA  ***.465.754-**   \n",
      "17688                  ZORAIDE FONSECA  ***.465.754-**   \n",
      "17689                  ZORAIDE FONSECA  ***.465.754-**   \n",
      "17690                  ZORAIDE FONSECA  ***.465.754-**   \n",
      "17691                  ZORAIDE FONSECA  ***.465.754-**   \n",
      "17692                  ZORAIDE FONSECA  ***.465.754-**   \n",
      "17693                  ZORAIDE FONSECA  ***.465.754-**   \n",
      "17694                  ZORAIDE FONSECA  ***.465.754-**   \n",
      "17695              ZUILA LOPES CORINGA  ***.332.194-**   \n",
      "17696              ZUILA LOPES CORINGA  ***.332.194-**   \n",
      "17697              ZUILA LOPES CORINGA  ***.332.194-**   \n",
      "17698              ZUILA LOPES CORINGA  ***.332.194-**   \n",
      "17699              ZUILA LOPES CORINGA  ***.332.194-**   \n",
      "17700              ZUILA LOPES CORINGA  ***.332.194-**   \n",
      "17701              ZUILA LOPES CORINGA  ***.332.194-**   \n",
      "17702              ZUILA LOPES CORINGA  ***.332.194-**   \n",
      "17703  ZULIVANIA FRANCA DE SOUSA GOMES  ***.941.504-**   \n",
      "17704  ZULIVANIA FRANCA DE SOUSA GOMES  ***.941.504-**   \n",
      "17705  ZULIVANIA FRANCA DE SOUSA GOMES  ***.941.504-**   \n",
      "17706  ZULIVANIA FRANCA DE SOUSA GOMES  ***.941.504-**   \n",
      "17707  ZULIVANIA FRANCA DE SOUSA GOMES  ***.941.504-**   \n",
      "17708  ZULIVANIA FRANCA DE SOUSA GOMES  ***.941.504-**   \n",
      "17709  ZULIVANIA FRANCA DE SOUSA GOMES  ***.941.504-**   \n",
      "17710  ZULIVANIA FRANCA DE SOUSA GOMES  ***.941.504-**   \n",
      "17711  ZULIVANIA FRANCA DE SOUSA GOMES  ***.941.504-**   \n",
      "17712  ZULIVANIA FRANCA DE SOUSA GOMES  ***.941.504-**   \n",
      "17713  ZULIVANIA FRANCA DE SOUSA GOMES  ***.941.504-**   \n",
      "17714  ZULIVANIA FRANCA DE SOUSA GOMES  ***.941.504-**   \n",
      "17715  ZULIVANIA FRANCA DE SOUSA GOMES  ***.941.504-**   \n",
      "\n",
      "                                          Cargo  \\\n",
      "0                   AUXILIAR DE SERVICOS GERAIS   \n",
      "1                   AUXILIAR DE SERVICOS GERAIS   \n",
      "2                   AUXILIAR DE SERVICOS GERAIS   \n",
      "3                   AUXILIAR DE SERVICOS GERAIS   \n",
      "4                   AUXILIAR DE SERVICOS GERAIS   \n",
      "5                   AUXILIAR DE SERVICOS GERAIS   \n",
      "6                   AUXILIAR DE SERVICOS GERAIS   \n",
      "7                   AUXILIAR DE SERVICOS GERAIS   \n",
      "8                   AUXILIAR DE SERVICOS GERAIS   \n",
      "9                   AUXILIAR DE SERVICOS GERAIS   \n",
      "10                  AUXILIAR DE SERVICOS GERAIS   \n",
      "11                  AUXILIAR DE SERVICOS GERAIS   \n",
      "12                  AUXILIAR DE SERVICOS GERAIS   \n",
      "13                      PROFESSOR II (30 HORAS)   \n",
      "14                      PROFESSOR II (30 HORAS)   \n",
      "15                      PROFESSOR II (30 HORAS)   \n",
      "16                      PROFESSOR II (30 HORAS)   \n",
      "17                      PROFESSOR II (30 HORAS)   \n",
      "18                      PROFESSOR II (30 HORAS)   \n",
      "19                      PROFESSOR II (30 HORAS)   \n",
      "20                      PROFESSOR II (30 HORAS)   \n",
      "21                      PROFESSOR II (30 HORAS)   \n",
      "22                      PROFESSOR II (30 HORAS)   \n",
      "23                      PROFESSOR II (30 HORAS)   \n",
      "24                      PROFESSOR II (30 HORAS)   \n",
      "25                      PROFESSOR II (30 HORAS)   \n",
      "26     ASSISTENTE DE SERVICOS ADM. EDUCACIONAIS   \n",
      "27     ASSISTENTE DE SERVICOS ADM. EDUCACIONAIS   \n",
      "28     ASSISTENTE DE SERVICOS ADM. EDUCACIONAIS   \n",
      "29     ASSISTENTE DE SERVICOS ADM. EDUCACIONAIS   \n",
      "...                                         ...   \n",
      "17686     ASSISTENTE ADMINISTRATIVO EDUCACIONAL   \n",
      "17687     ASSISTENTE ADMINISTRATIVO EDUCACIONAL   \n",
      "17688     ASSISTENTE ADMINISTRATIVO EDUCACIONAL   \n",
      "17689     ASSISTENTE ADMINISTRATIVO EDUCACIONAL   \n",
      "17690     ASSISTENTE ADMINISTRATIVO EDUCACIONAL   \n",
      "17691     ASSISTENTE ADMINISTRATIVO EDUCACIONAL   \n",
      "17692     ASSISTENTE ADMINISTRATIVO EDUCACIONAL   \n",
      "17693     ASSISTENTE ADMINISTRATIVO EDUCACIONAL   \n",
      "17694     ASSISTENTE ADMINISTRATIVO EDUCACIONAL   \n",
      "17695               AUXILIAR DE SERVICOS GERAIS   \n",
      "17696               AUXILIAR DE SERVICOS GERAIS   \n",
      "17697               AUXILIAR DE SERVICOS GERAIS   \n",
      "17698               AUXILIAR DE SERVICOS GERAIS   \n",
      "17699               AUXILIAR DE SERVICOS GERAIS   \n",
      "17700               AUXILIAR DE SERVICOS GERAIS   \n",
      "17701               AUXILIAR DE SERVICOS GERAIS   \n",
      "17702               AUXILIAR DE SERVICOS GERAIS   \n",
      "17703                    PROFESSOR I (30 HORAS)   \n",
      "17704                    PROFESSOR I (30 HORAS)   \n",
      "17705                    PROFESSOR I (30 HORAS)   \n",
      "17706                    PROFESSOR I (30 HORAS)   \n",
      "17707                    PROFESSOR I (30 HORAS)   \n",
      "17708                    PROFESSOR I (30 HORAS)   \n",
      "17709                    PROFESSOR I (30 HORAS)   \n",
      "17710                    PROFESSOR I (30 HORAS)   \n",
      "17711                    PROFESSOR I (30 HORAS)   \n",
      "17712                    PROFESSOR I (30 HORAS)   \n",
      "17713                    PROFESSOR I (30 HORAS)   \n",
      "17714                    PROFESSOR I (30 HORAS)   \n",
      "17715                    PROFESSOR I (30 HORAS)   \n",
      "\n",
      "                               Lotação                 Investidura  \\\n",
      "0      SECRETARIA MUNICIPAL DE GOVERNO                  CONCURSADO   \n",
      "1      SECRETARIA MUNICIPAL DE GOVERNO                  CONCURSADO   \n",
      "2      SECRETARIA MUNICIPAL DE GOVERNO                  CONCURSADO   \n",
      "3      SECRETARIA MUNICIPAL DE GOVERNO                  CONCURSADO   \n",
      "4      SECRETARIA MUNICIPAL DE GOVERNO                  CONCURSADO   \n",
      "5      SECRETARIA MUNICIPAL DE GOVERNO                  CONCURSADO   \n",
      "6      SECRETARIA MUNICIPAL DE GOVERNO                  CONCURSADO   \n",
      "7      SECRETARIA MUNICIPAL DE GOVERNO                  CONCURSADO   \n",
      "8      SECRETARIA MUNICIPAL DE GOVERNO                  CONCURSADO   \n",
      "9      SECRETARIA MUNICIPAL DE GOVERNO                  CONCURSADO   \n",
      "10     SECRETARIA MUNICIPAL DE GOVERNO                  CONCURSADO   \n",
      "11     SECRETARIA MUNICIPAL DE GOVERNO                  CONCURSADO   \n",
      "12     SECRETARIA MUNICIPAL DE GOVERNO                  CONCURSADO   \n",
      "13                          FUNDEB 60%                  CONCURSADO   \n",
      "14                          FUNDEB 60%                  CONCURSADO   \n",
      "15                          FUNDEB 60%                  CONCURSADO   \n",
      "16                          FUNDEB 60%                  CONCURSADO   \n",
      "17                          FUNDEB 60%                  CONCURSADO   \n",
      "18                          FUNDEB 60%                  CONCURSADO   \n",
      "19                          FUNDEB 60%                  CONCURSADO   \n",
      "20                          FUNDEB 60%                  CONCURSADO   \n",
      "21                          FUNDEB 60%                  CONCURSADO   \n",
      "22                          FUNDEB 60%                  CONCURSADO   \n",
      "23                          FUNDEB 60%                  CONCURSADO   \n",
      "24                          FUNDEB 60%                  CONCURSADO   \n",
      "25                          FUNDEB 60%                  CONCURSADO   \n",
      "26                          FUNDEB 40%                  CONCURSADO   \n",
      "27                          FUNDEB 40%                  CONCURSADO   \n",
      "28                          FUNDEB 40%                  CONCURSADO   \n",
      "29                          FUNDEB 40%                  CONCURSADO   \n",
      "...                                ...                         ...   \n",
      "17686                       FUNDEB 40%                  CONCURSADO   \n",
      "17687                       FUNDEB 40%                  CONCURSADO   \n",
      "17688                       FUNDEB 40%                  CONCURSADO   \n",
      "17689                       FUNDEB 40%                  CONCURSADO   \n",
      "17690                       FUNDEB 40%                  CONCURSADO   \n",
      "17691                       FUNDEB 40%                  CONCURSADO   \n",
      "17692                       FUNDEB 40%                  CONCURSADO   \n",
      "17693                       FUNDEB 40%                  CONCURSADO   \n",
      "17694                       FUNDEB 40%                  CONCURSADO   \n",
      "17695         PRONTO SOCORRO MUNICIPAL  CONTRATADO TEMPORARIAMENTE   \n",
      "17696         PRONTO SOCORRO MUNICIPAL  CONTRATADO TEMPORARIAMENTE   \n",
      "17697         PRONTO SOCORRO MUNICIPAL  CONTRATADO TEMPORARIAMENTE   \n",
      "17698         PRONTO SOCORRO MUNICIPAL  CONTRATADO TEMPORARIAMENTE   \n",
      "17699         PRONTO SOCORRO MUNICIPAL  CONTRATADO TEMPORARIAMENTE   \n",
      "17700         PRONTO SOCORRO MUNICIPAL  CONTRATADO TEMPORARIAMENTE   \n",
      "17701         PRONTO SOCORRO MUNICIPAL  CONTRATADO TEMPORARIAMENTE   \n",
      "17702         PRONTO SOCORRO MUNICIPAL  CONTRATADO TEMPORARIAMENTE   \n",
      "17703                       FUNDEB 60%           CONCURSO(EFETIVO)   \n",
      "17704                       FUNDEB 60%           CONCURSO(EFETIVO)   \n",
      "17705                       FUNDEB 60%           CONCURSO(EFETIVO)   \n",
      "17706                       FUNDEB 60%           CONCURSO(EFETIVO)   \n",
      "17707                       FUNDEB 60%           CONCURSO(EFETIVO)   \n",
      "17708                       FUNDEB 60%           CONCURSO(EFETIVO)   \n",
      "17709                       FUNDEB 60%           CONCURSO(EFETIVO)   \n",
      "17710                       FUNDEB 60%           CONCURSO(EFETIVO)   \n",
      "17711                       FUNDEB 60%           CONCURSO(EFETIVO)   \n",
      "17712                       FUNDEB 60%           CONCURSO(EFETIVO)   \n",
      "17713                       FUNDEB 60%           CONCURSO(EFETIVO)   \n",
      "17714                       FUNDEB 60%           CONCURSO(EFETIVO)   \n",
      "17715                       FUNDEB 60%           CONCURSO(EFETIVO)   \n",
      "\n",
      "       Salário bruto  Descontos  Salário líquido  \n",
      "0            1171.25     111.26          1059.99  \n",
      "1            1171.25     111.26          1059.99  \n",
      "2            1171.25     142.49          1028.76  \n",
      "3            1171.25     111.26          1059.99  \n",
      "4            1171.25     111.26          1059.99  \n",
      "5            1171.25     111.26          1059.99  \n",
      "6            1171.25     111.26          1059.99  \n",
      "7            1171.25     111.26          1059.99  \n",
      "8            1171.25     111.26          1059.99  \n",
      "9            1171.25     111.26          1059.99  \n",
      "10           1171.25     111.26          1059.99  \n",
      "11           1171.25     111.26          1059.99  \n",
      "12           1171.25      93.70          1077.55  \n",
      "13           3890.10     592.43          3297.67  \n",
      "14           3140.47     412.27          2728.20  \n",
      "15           3140.47     503.29          2637.18  \n",
      "16           3188.92     421.70          2767.22  \n",
      "17           3188.92     421.70          2767.22  \n",
      "18           3188.92     421.70          2767.22  \n",
      "19           3188.92     421.70          2767.22  \n",
      "20           3140.47     412.27          2728.20  \n",
      "21           3140.47     412.27          2728.20  \n",
      "22           3140.47     412.27          2728.20  \n",
      "23           3140.47     412.27          2728.20  \n",
      "24           3140.47     412.27          2728.20  \n",
      "25           3140.47     412.27          2728.20  \n",
      "26           1608.82     399.55          1209.27  \n",
      "27           1284.78     392.90           891.88  \n",
      "28           1284.78     428.58           856.20  \n",
      "29           1284.78     392.90           891.88  \n",
      "...              ...        ...              ...  \n",
      "17686        2616.48     310.49          2305.99  \n",
      "17687        2616.48     310.49          2305.99  \n",
      "17688        2616.48     310.49          2305.99  \n",
      "17689        2616.48     310.49          2305.99  \n",
      "17690        2616.48     310.49          2305.99  \n",
      "17691        2616.48     310.49          2305.99  \n",
      "17692        2616.48     310.49          2305.99  \n",
      "17693        2616.48     310.49          2305.99  \n",
      "17694        2616.48     271.25          2345.23  \n",
      "17695           0.00       0.00             0.00  \n",
      "17696        1874.00     168.66          1705.34  \n",
      "17697         937.00      74.96           862.04  \n",
      "17698         937.00      74.96           862.04  \n",
      "17699         937.00      74.96           862.04  \n",
      "17700         937.00      74.96           862.04  \n",
      "17701         937.00      74.96           862.04  \n",
      "17702           0.00       0.00             0.00  \n",
      "17703        2920.37     870.29          2050.08  \n",
      "17704        2357.62     727.20          1630.42  \n",
      "17705        2357.62     802.04          1555.58  \n",
      "17706        2397.46     733.51          1663.95  \n",
      "17707        2397.46     733.51          1663.95  \n",
      "17708        2397.46     733.51          1663.95  \n",
      "17709        2397.46     733.51          1663.95  \n",
      "17710        2357.62     727.20          1630.42  \n",
      "17711        2357.62     727.20          1630.42  \n",
      "17712        2357.62     727.20          1630.42  \n",
      "17713        2357.62     727.20          1630.42  \n",
      "17714        2357.62     727.20          1630.42  \n",
      "17715        2357.62     216.06          2141.56  \n",
      "\n",
      "[17716 rows x 8 columns]\n"
     ]
    }
   ],
   "source": [
    "#O comando acima mostra as 5 primeiras linhas da tabela. Existem 13 linhas correspondentes ao pagamento de cada mês, e o 13º salário.\n",
    "#O comando abaixo mostra um resumo da tabela completa. Não usado por ficar fora de formatação pela quantidade de colunas.\n",
    "\n",
    "print(dataframe_excel)"
   ]
  },
  {
   "cell_type": "markdown",
   "metadata": {},
   "source": [
    "## Perguntas"
   ]
  },
  {
   "cell_type": "markdown",
   "metadata": {},
   "source": [
    "### Quantos funcionários tiveram aumento de salário? Se sim, qual o tipo de investidura da maioria?"
   ]
  },
  {
   "cell_type": "code",
   "execution_count": 29,
   "metadata": {},
   "outputs": [
    {
     "data": {
      "text/plain": [
       "array([ 0.,  0.,  0., ...,  0.,  0.,  0.])"
      ]
     },
     "execution_count": 29,
     "metadata": {},
     "output_type": "execute_result"
    }
   ],
   "source": [
    "salario_funcionarios = dataframe_excel.Salario_Bruto\n",
    "aumento_salario = np.diff(salario_funcionarios)\n",
    "aumento_salario"
   ]
  },
  {
   "cell_type": "markdown",
   "metadata": {},
   "source": [
    "### Houve redução de salário de funcionários? Se sim, qual o cargo da maioria?"
   ]
  },
  {
   "cell_type": "code",
   "execution_count": null,
   "metadata": {
    "collapsed": true
   },
   "outputs": [],
   "source": [
    "salario_funcionarios = dataframe_excel.Salario_Bruto\n",
    "reducao_salario = np.diff(salario_funcionarios)\n",
    "reducao_salario"
   ]
  },
  {
   "cell_type": "markdown",
   "metadata": {},
   "source": [
    "### Qual sobrenome (família) mais presente entre os cargos?"
   ]
  },
  {
   "cell_type": "code",
   "execution_count": null,
   "metadata": {
    "collapsed": true
   },
   "outputs": [],
   "source": [
    "nome_funcionarios = dataframe_excel.Nome\n",
    "separa_nomes = nome_funcionarios.str.split(\" \")\n",
    "i = 0\n",
    "conta_nomes = []\n",
    "#while (i < 17716):\n",
    "#    conta_nomes.append(pd.value_counts(separa_nomes[i]))\n",
    "#    i = i+1\n",
    "#conta_nomes"
   ]
  },
  {
   "cell_type": "markdown",
   "metadata": {},
   "source": [
    "### Quantos e quais funcionários tiveram mudança de cargo?"
   ]
  },
  {
   "cell_type": "code",
   "execution_count": null,
   "metadata": {
    "collapsed": true
   },
   "outputs": [],
   "source": []
  },
  {
   "cell_type": "markdown",
   "metadata": {},
   "source": [
    "### Dentre os funcionários com investidura do tipo comissionado, quantos não receberam 13º salário?"
   ]
  },
  {
   "cell_type": "code",
   "execution_count": null,
   "metadata": {
    "collapsed": true
   },
   "outputs": [],
   "source": []
  },
  {
   "cell_type": "markdown",
   "metadata": {},
   "source": [
    "### Existe relação entre o tamanho do nome do funcionário e o salário que ele recebe?"
   ]
  },
  {
   "cell_type": "code",
   "execution_count": null,
   "metadata": {
    "collapsed": true
   },
   "outputs": [],
   "source": [
    "# Esta pergunta foi baseada em uma suposição de que médicos e advogados, ambos com salários elevados, tendem a ter nomes maiores."
   ]
  },
  {
   "cell_type": "code",
   "execution_count": 38,
   "metadata": {},
   "outputs": [],
   "source": [
    "nome_funcionarios = dataframe_excel.Nome\n",
    "tamanho_nome = nome_funcionarios.str.len()\n",
    "\n",
    "salario_funcionarios = dataframe_excel.Salario_Bruto"
   ]
  },
  {
   "cell_type": "code",
   "execution_count": 41,
   "metadata": {},
   "outputs": [
    {
     "data": {
      "image/png": "[encoded data removed]",
      "text/plain": [
       "<matplotlib.figure.Figure at 0x1c455927f98>"
      ]
     },
     "metadata": {},
     "output_type": "display_data"
    }
   ],
   "source": [
    "plt.plot(tamanho_nome, salario_funcionarios)\n",
    "plt.show()"
   ]
  },
  {
   "cell_type": "markdown",
   "metadata": {
    "collapsed": true
   },
   "source": [
    "É necessário um outro tipo de gráfico para representar estas informações."
   ]
  },
  {
   "cell_type": "markdown",
   "metadata": {},
   "source": [
    "### Qual o tipo de investidura dos funcionários cujo desconto salarial é maior?"
   ]
  },
  {
   "cell_type": "code",
   "execution_count": 10,
   "metadata": {
    "collapsed": true
   },
   "outputs": [],
   "source": [
    "# Suspeitasse que pela facilidade em benefícios oferecidos aos concursados pelos bancos, como empréstimos, estes tendem a ter maior desconto em seus respectivos salários.\n",
    "descontos_concursados = dataframe_excel[dataframe_excel.Investidura == 'CONCURSADO'].Descontos.sort_values()\n",
    "descontos_comissionados = dataframe_excel[dataframe_excel.Investidura == 'COMISSIONADO'].Descontos.sort_values()\n",
    "salario_concursados = dataframe_excel[dataframe_excel.Investidura == 'CONCURSADO'].Salario_Bruto.sort_values()\n",
    "salario_comissionados = dataframe_excel[dataframe_excel.Investidura == 'COMISSIONADO'].Salario_Bruto.sort_values()\n",
    "descontos_efetivos = dataframe_excel[dataframe_excel.Investidura == 'CONCURSO(EFETIVO)'].Descontos.sort_values()\n",
    "salario_efetivos = dataframe_excel[dataframe_excel.Investidura == 'CONCURSO(EFETIVO)'].Salario_Bruto.sort_values()"
   ]
  },
  {
   "cell_type": "code",
   "execution_count": 13,
   "metadata": {},
   "outputs": [
    {
     "data": {
      "image/png": "[encoded data removed]",
      "text/plain": [
       "<matplotlib.figure.Figure at 0x1c4550bc2e8>"
      ]
     },
     "metadata": {},
     "output_type": "display_data"
    }
   ],
   "source": [
    "plt.title('Descontos/Salários')\n",
    "patch_concursados = mpatches.Patch(color = 'blue', label = 'Concursados')\n",
    "patch_comissionados = mpatches.Patch(color = 'orange', label = 'Comissionados')\n",
    "patch_efetivos = mpatches.Patch(color = 'green', label = 'Efetivos')\n",
    "plt.legend(handles=[patch_concursados, patch_comissionados, patch_efetivos])\n",
    "\n",
    "plt.plot(salario_concursados, descontos_concursados)\n",
    "plt.plot(salario_comissionados, descontos_comissionados)\n",
    "plt.plot(salario_efetivos, descontos_efetivos)\n",
    "plt.show()"
   ]
  },
  {
   "cell_type": "markdown",
   "metadata": {},
   "source": [
    "Existem na base dados o tipo de investidura 'Concursados' e 'Concursados(Efetivos)'. Podem se tratar da mesma informação, mas para evitar uma possível suposição errada pela quantidade de registros de ambos, decidi examinar os 2 separadamente."
   ]
  },
  {
   "cell_type": "code",
   "execution_count": null,
   "metadata": {
    "collapsed": true
   },
   "outputs": [],
   "source": []
  },
  {
   "cell_type": "markdown",
   "metadata": {},
   "source": [
    "### Em qual orgão encontra-se uma maior quantidade de funcionários comissionados?"
   ]
  },
  {
   "cell_type": "code",
   "execution_count": 28,
   "metadata": {},
   "outputs": [
    {
     "data": {
      "text/plain": [
       "SECRETARIA MUNICIPAL DE SAUDE               450\n",
       "SECRETARIA MUNICIPAL DE GOVERNO             192\n",
       "SEC MUN ASSIST SOCIAL, TRAB, CID E HABIT    177\n",
       "SEC. MUN DE ADMINISTRACAO E PLANEJAMENTO    138\n",
       "SECRETARIA MUNICIPAL DE OBRAS PUBLICAS       99\n",
       "EDUCACAO 10%                                 97\n",
       "PROGRAMA BOLSA FAMILIA                       72\n",
       "SECRETARIA MUNICIPAL DE FINANCAS             69\n",
       "SEC MUN DE COMUNICACAO E OUVIDORIA           60\n",
       "SECRETARIA MUNICIPAL SERVICOS PUBLICOS       54\n",
       "SEC MUN DE EVENTOS, TUR, ESP E JUVENTUDE     44\n",
       "SECRETARIA MUNICIPAL DE MEIO AMBIENTE        24\n",
       "SEC MUN DE DESENV ECON CIEN E TECNOLOGIA     24\n",
       "SEC MUN DE AGRICULTURA, PECUARIA E PESCA     24\n",
       "VIGILANCIA EM SAUDE                          13\n",
       "CONSELHO TUTELAR                             13\n",
       "PRONTO SOCORRO MUNICIPAL                     12\n",
       "CENTRO DE ATENCAO PSICOSSOCIAL - C A P S     12\n",
       "SECRETARIA MUNICIPAL DE TRIBUTACAO           12\n",
       "PROCURADORIA GERAL DO MUNICIPIO               2\n",
       "Name: Lotacao, dtype: int64"
      ]
     },
     "execution_count": 28,
     "metadata": {},
     "output_type": "execute_result"
    }
   ],
   "source": [
    "lotacao_comissionados = pd.value_counts(dataframe_excel[dataframe_excel.Investidura == 'COMISSIONADO'].Lotacao)\n",
    "lotacao_comissionados"
   ]
  },
  {
   "cell_type": "markdown",
   "metadata": {},
   "source": [
    "Percebe-se que na secretaria municipal de saúde estão lotados a maior parte dos funcionários comissionados."
   ]
  },
  {
   "cell_type": "markdown",
   "metadata": {},
   "source": [
    "### Quais funcionários foram cedidos para outro órgão?"
   ]
  },
  {
   "cell_type": "code",
   "execution_count": 6,
   "metadata": {},
   "outputs": [
    {
     "data": {
      "text/plain": [
       "ROSINEIDE BISPO DO NASCIMENTO                13\n",
       "SIDNEY COSME PEREIRA                         13\n",
       "SILVANA DE MELO BEZERRA                      13\n",
       "FRANCISCA MARIA NUNES SILVA                  13\n",
       "PEDRO IVO BORGES BIGOIS CAPISTRANO           13\n",
       "SELEIDE ABREU DA FONSECA PAIVA               13\n",
       "MARIA ELIZABETE LOURENCO DE ARAUJO SANTOS    13\n",
       "RODOLFO ALMEIDA PEIXOTO                      13\n",
       "MARIANA NOBRE DA COSTA                       13\n",
       "LUCIMEIRE ALMEIDA ADELINO                    13\n",
       "FRANCISCA MISIA DE OLIVEIRA                  13\n",
       "DAMIAO RAMALHO                               13\n",
       "FRANCISCO CANINDE QUIRINO                    13\n",
       "FERNANDA KALLIANE LOPES ROCHA CESARINO        8\n",
       "MAX BRENO WANDERLEY                           4\n",
       "Name: Nome, dtype: int64"
      ]
     },
     "execution_count": 6,
     "metadata": {},
     "output_type": "execute_result"
    }
   ],
   "source": [
    "lotacao_concursados = pd.value_counts(dataframe_excel[dataframe_excel.Investidura == 'CEDIDO PARA OUTRO ORGAO'].Nome)\n",
    "lotacao_concursados"
   ]
  },
  {
   "cell_type": "markdown",
   "metadata": {},
   "source": [
    "Acima, uma lista dos nomes dos funcionários que foram cedidos para outros órgãos."
   ]
  },
  {
   "cell_type": "markdown",
   "metadata": {},
   "source": [
    "### Houveram exonerações?"
   ]
  },
  {
   "cell_type": "code",
   "execution_count": 25,
   "metadata": {
    "collapsed": true
   },
   "outputs": [],
   "source": [
    "# Caso exista menos de 12 linhas correspondente ao mês de pagamento, deduz-se que o funcionário foi exonerado."
   ]
  },
  {
   "cell_type": "markdown",
   "metadata": {
    "collapsed": true
   },
   "source": [
    "Alguns funcionários não possuem as 13 ou 12 linhas por não terem tomado posse ou não foram contratados no início do ano, tornando esta forma de descobrir este tipo de informação inválida."
   ]
  },
  {
   "cell_type": "code",
   "execution_count": null,
   "metadata": {
    "collapsed": true
   },
   "outputs": [],
   "source": []
  }
 ],
 "metadata": {
  "kernelspec": {
   "display_name": "Python 3",
   "language": "python",
   "name": "python3"
  },
  "language_info": {
   "codemirror_mode": {
    "name": "ipython",
    "version": 3
   },
   "file_extension": ".py",
   "mimetype": "text/x-python",
   "name": "python",
   "nbconvert_exporter": "python",
   "pygments_lexer": "ipython3",
   "version": "3.6.3"
  }
 },
 "nbformat": 4,
 "nbformat_minor": 2
}
