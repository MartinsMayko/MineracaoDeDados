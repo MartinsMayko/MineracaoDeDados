{
 "cells": [
  {
   "cell_type": "markdown",
   "metadata": {},
   "source": [
    "# Relação de Servidores Ativos da Prefeitura Municipal de Assú - 2017"
   ]
  },
  {
   "cell_type": "code",
   "execution_count": 19,
   "metadata": {
    "collapsed": true
   },
   "outputs": [],
   "source": [
    "import pandas as pd\n",
    "\n",
    "dataframe_excel = pd.read_excel('RelacaoServidores.xls', sheetname=0, header=0)"
   ]
  },
  {
   "cell_type": "code",
   "execution_count": 20,
   "metadata": {},
   "outputs": [
    {
     "data": {
      "text/html": [
       "<div>\n",
       "<style>\n",
       "    .dataframe thead tr:only-child th {\n",
       "        text-align: right;\n",
       "    }\n",
       "\n",
       "    .dataframe thead th {\n",
       "        text-align: left;\n",
       "    }\n",
       "\n",
       "    .dataframe tbody tr th {\n",
       "        vertical-align: top;\n",
       "    }\n",
       "</style>\n",
       "<table border=\"1\" class=\"dataframe\">\n",
       "  <thead>\n",
       "    <tr style=\"text-align: right;\">\n",
       "      <th></th>\n",
       "      <th>Nome</th>\n",
       "      <th>CPF</th>\n",
       "      <th>Cargo</th>\n",
       "      <th>Lotação</th>\n",
       "      <th>Investidura</th>\n",
       "      <th>Salário bruto</th>\n",
       "      <th>Descontos</th>\n",
       "      <th>Salário líquido</th>\n",
       "    </tr>\n",
       "  </thead>\n",
       "  <tbody>\n",
       "    <tr>\n",
       "      <th>0</th>\n",
       "      <td>ABILENE SOARES DA SILVA SOUZA</td>\n",
       "      <td>***.064.284-**</td>\n",
       "      <td>AUXILIAR DE SERVICOS GERAIS</td>\n",
       "      <td>SECRETARIA MUNICIPAL DE GOVERNO</td>\n",
       "      <td>CONCURSADO</td>\n",
       "      <td>1171.25</td>\n",
       "      <td>111.26</td>\n",
       "      <td>1059.99</td>\n",
       "    </tr>\n",
       "    <tr>\n",
       "      <th>1</th>\n",
       "      <td>ABILENE SOARES DA SILVA SOUZA</td>\n",
       "      <td>***.064.284-**</td>\n",
       "      <td>AUXILIAR DE SERVICOS GERAIS</td>\n",
       "      <td>SECRETARIA MUNICIPAL DE GOVERNO</td>\n",
       "      <td>CONCURSADO</td>\n",
       "      <td>1171.25</td>\n",
       "      <td>111.26</td>\n",
       "      <td>1059.99</td>\n",
       "    </tr>\n",
       "    <tr>\n",
       "      <th>2</th>\n",
       "      <td>ABILENE SOARES DA SILVA SOUZA</td>\n",
       "      <td>***.064.284-**</td>\n",
       "      <td>AUXILIAR DE SERVICOS GERAIS</td>\n",
       "      <td>SECRETARIA MUNICIPAL DE GOVERNO</td>\n",
       "      <td>CONCURSADO</td>\n",
       "      <td>1171.25</td>\n",
       "      <td>142.49</td>\n",
       "      <td>1028.76</td>\n",
       "    </tr>\n",
       "    <tr>\n",
       "      <th>3</th>\n",
       "      <td>ABILENE SOARES DA SILVA SOUZA</td>\n",
       "      <td>***.064.284-**</td>\n",
       "      <td>AUXILIAR DE SERVICOS GERAIS</td>\n",
       "      <td>SECRETARIA MUNICIPAL DE GOVERNO</td>\n",
       "      <td>CONCURSADO</td>\n",
       "      <td>1171.25</td>\n",
       "      <td>111.26</td>\n",
       "      <td>1059.99</td>\n",
       "    </tr>\n",
       "    <tr>\n",
       "      <th>4</th>\n",
       "      <td>ABILENE SOARES DA SILVA SOUZA</td>\n",
       "      <td>***.064.284-**</td>\n",
       "      <td>AUXILIAR DE SERVICOS GERAIS</td>\n",
       "      <td>SECRETARIA MUNICIPAL DE GOVERNO</td>\n",
       "      <td>CONCURSADO</td>\n",
       "      <td>1171.25</td>\n",
       "      <td>111.26</td>\n",
       "      <td>1059.99</td>\n",
       "    </tr>\n",
       "  </tbody>\n",
       "</table>\n",
       "</div>"
      ],
      "text/plain": [
       "                            Nome             CPF                        Cargo  \\\n",
       "0  ABILENE SOARES DA SILVA SOUZA  ***.064.284-**  AUXILIAR DE SERVICOS GERAIS   \n",
       "1  ABILENE SOARES DA SILVA SOUZA  ***.064.284-**  AUXILIAR DE SERVICOS GERAIS   \n",
       "2  ABILENE SOARES DA SILVA SOUZA  ***.064.284-**  AUXILIAR DE SERVICOS GERAIS   \n",
       "3  ABILENE SOARES DA SILVA SOUZA  ***.064.284-**  AUXILIAR DE SERVICOS GERAIS   \n",
       "4  ABILENE SOARES DA SILVA SOUZA  ***.064.284-**  AUXILIAR DE SERVICOS GERAIS   \n",
       "\n",
       "                           Lotação Investidura  Salário bruto  Descontos  \\\n",
       "0  SECRETARIA MUNICIPAL DE GOVERNO  CONCURSADO        1171.25     111.26   \n",
       "1  SECRETARIA MUNICIPAL DE GOVERNO  CONCURSADO        1171.25     111.26   \n",
       "2  SECRETARIA MUNICIPAL DE GOVERNO  CONCURSADO        1171.25     142.49   \n",
       "3  SECRETARIA MUNICIPAL DE GOVERNO  CONCURSADO        1171.25     111.26   \n",
       "4  SECRETARIA MUNICIPAL DE GOVERNO  CONCURSADO        1171.25     111.26   \n",
       "\n",
       "   Salário líquido  \n",
       "0          1059.99  \n",
       "1          1059.99  \n",
       "2          1028.76  \n",
       "3          1059.99  \n",
       "4          1059.99  "
      ]
     },
     "execution_count": 20,
     "metadata": {},
     "output_type": "execute_result"
    }
   ],
   "source": [
    "dataframe_excel.head()"
   ]
  },
  {
   "cell_type": "code",
   "execution_count": 22,
   "metadata": {
    "collapsed": true
   },
   "outputs": [],
   "source": [
    "#O comando acima mostra as 5 primeiras linhas da tabela. Existem 13 linhas correspondentes ao pagamento de cada mês, e o 13º salário.\n",
    "#O comando abaixo mostra um resumo da tabela completa. Não usado por ficar fora de formatação pela quantidade de colunas.\n",
    "\n",
    "#print(dataframe_excel)"
   ]
  },
  {
   "cell_type": "markdown",
   "metadata": {},
   "source": [
    "## Perguntas"
   ]
  },
  {
   "cell_type": "markdown",
   "metadata": {},
   "source": [
    "### Quantos funcionários tiveram aumento de salário? Se sim, qual o tipo de investidura da maioria?"
   ]
  },
  {
   "cell_type": "markdown",
   "metadata": {},
   "source": [
    "### Houve redução de salário de funcionários? Se sim, qual o cargo da maioria?"
   ]
  },
  {
   "cell_type": "markdown",
   "metadata": {},
   "source": [
    "### Qual sobrenome (família) mais presente entre os cargos?"
   ]
  },
  {
   "cell_type": "markdown",
   "metadata": {},
   "source": [
    "### Quantos e quais funcionários tiveram mudança de cargo?"
   ]
  },
  {
   "cell_type": "markdown",
   "metadata": {},
   "source": [
    "### Dentre os funcionários com investidura do tipo comissionado, quantos não receberam 13º salário?"
   ]
  },
  {
   "cell_type": "markdown",
   "metadata": {},
   "source": [
    "### Existe relação entre o tamanho do nome do funcionário e o salário que ele recebe?"
   ]
  },
  {
   "cell_type": "code",
   "execution_count": 23,
   "metadata": {
    "collapsed": true
   },
   "outputs": [],
   "source": [
    "# Esta pergunta foi baseada em uma suposição de que médicos e advogados, ambos com salários elevados, tendem a ter nomes maiores."
   ]
  },
  {
   "cell_type": "markdown",
   "metadata": {},
   "source": [
    "### Qual o tipo de investidura dos funcionários cujo desconto salarial é maior?"
   ]
  },
  {
   "cell_type": "code",
   "execution_count": 24,
   "metadata": {
    "collapsed": true
   },
   "outputs": [],
   "source": [
    "# Suspeitasse que pela facilidade em benefícios oferecidos aos concursados pelos bancos, como empréstimos, estes tendem a ter maior desconto em seus respectivos salários."
   ]
  },
  {
   "cell_type": "markdown",
   "metadata": {},
   "source": [
    "### Em qual orgão encontra-se uma maior quantidade de funcionários comissionados?"
   ]
  },
  {
   "cell_type": "markdown",
   "metadata": {},
   "source": [
    "### Em todas as secretarias existe pelo menos 1 estagiário? Se não, qual(is) não possue(m)?"
   ]
  },
  {
   "cell_type": "markdown",
   "metadata": {},
   "source": [
    "### Houveram exonerações? Se sim, quantas?"
   ]
  },
  {
   "cell_type": "code",
   "execution_count": 25,
   "metadata": {
    "collapsed": true
   },
   "outputs": [],
   "source": [
    "# Caso exista menos de 12 linhas correspondente ao mês de pagamento, deduz-se que o funcionário foi exonerado."
   ]
  },
  {
   "cell_type": "code",
   "execution_count": null,
   "metadata": {
    "collapsed": true
   },
   "outputs": [],
   "source": []
  }
 ],
 "metadata": {
  "kernelspec": {
   "display_name": "Python 3",
   "language": "python",
   "name": "python3"
  },
  "language_info": {
   "codemirror_mode": {
    "name": "ipython",
    "version": 3
   },
   "file_extension": ".py",
   "mimetype": "text/x-python",
   "name": "python",
   "nbconvert_exporter": "python",
   "pygments_lexer": "ipython3",
   "version": "3.6.3"
  }
 },
 "nbformat": 4,
 "nbformat_minor": 2
}
